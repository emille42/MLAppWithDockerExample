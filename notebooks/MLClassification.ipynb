{
  "nbformat": 4,
  "nbformat_minor": 0,
  "metadata": {
    "colab": {
      "provenance": []
    },
    "kernelspec": {
      "name": "python3",
      "display_name": "Python 3"
    },
    "language_info": {
      "name": "python"
    }
  },
  "cells": [
    {
      "cell_type": "code",
      "execution_count": 7,
      "metadata": {
        "id": "OA4R5Xw_Hdur"
      },
      "outputs": [],
      "source": [
        "import pandas as pd \n",
        "import numpy as np\n",
        "from sklearn.model_selection import train_test_split\n",
        "from sklearn.pipeline import make_pipeline\n",
        "from sklearn.pipeline import Pipeline\n",
        "from sklearn.preprocessing import StandardScaler\n",
        "from sklearn.linear_model import LogisticRegression\n",
        "import pickle"
      ]
    },
    {
      "cell_type": "code",
      "source": [
        "df = pd.read_csv(\"/content/heart_cleveland_upload.csv\")"
      ],
      "metadata": {
        "id": "3W_oBhrWJqKM"
      },
      "execution_count": 2,
      "outputs": []
    },
    {
      "cell_type": "code",
      "source": [
        "X_train, X_test, y_train, y_test = train_test_split(df.drop('condition', axis=1),\n",
        "                                                    df['condition'].values,\n",
        "                                                    test_size=0.3,\n",
        "                                                    random_state=1,\n",
        "                                                    stratify=df['condition'].values)"
      ],
      "metadata": {
        "id": "u-E8viX1JyG3"
      },
      "execution_count": 3,
      "outputs": []
    },
    {
      "cell_type": "code",
      "source": [
        "clf = make_pipeline(StandardScaler(), LogisticRegression())\n",
        "clf.fit(X_train, y_train) \n",
        "\n",
        "score = clf.score(X_test, y_test)\n",
        "score"
      ],
      "metadata": {
        "id": "UisiUm0sKKLa",
        "colab": {
          "base_uri": "https://localhost:8080/"
        },
        "outputId": "91e67200-ad14-4458-d893-5af9efa0773f"
      },
      "execution_count": 6,
      "outputs": [
        {
          "output_type": "execute_result",
          "data": {
            "text/plain": [
              "0.8222222222222222"
            ]
          },
          "metadata": {},
          "execution_count": 6
        }
      ]
    },
    {
      "cell_type": "code",
      "source": [
        "with open(\"model.pkl\", \"wb\") as f:\n",
        "  pickle.dump(clf,f)"
      ],
      "metadata": {
        "id": "4CGfHLy8JF8O"
      },
      "execution_count": 8,
      "outputs": []
    }
  ]
}